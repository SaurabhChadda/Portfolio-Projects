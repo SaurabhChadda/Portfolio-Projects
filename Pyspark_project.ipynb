{
  "nbformat": 4,
  "nbformat_minor": 0,
  "metadata": {
    "colab": {
      "provenance": [],
      "authorship_tag": "ABX9TyMzGcc0zPjkmzykAiU5uld3",
      "include_colab_link": true
    },
    "kernelspec": {
      "name": "python3",
      "display_name": "Python 3"
    },
    "language_info": {
      "name": "python"
    }
  },
  "cells": [
    {
      "cell_type": "markdown",
      "metadata": {
        "id": "view-in-github",
        "colab_type": "text"
      },
      "source": [
        "<a href=\"https://colab.research.google.com/github/SaurabhChadda/Portfolio-Projects/blob/main/Pyspark_project.ipynb\" target=\"_parent\"><img src=\"https://colab.research.google.com/assets/colab-badge.svg\" alt=\"Open In Colab\"/></a>"
      ]
    },
    {
      "cell_type": "markdown",
      "source": [
        "Here in this step I'm connecting the google colab with my google drive as I'm importing data from there."
      ],
      "metadata": {
        "id": "qs0TVAK8odWC"
      }
    },
    {
      "cell_type": "code",
      "execution_count": null,
      "metadata": {
        "colab": {
          "base_uri": "https://localhost:8080/"
        },
        "id": "3PlwKs7Ti_BD",
        "outputId": "57474c91-e044-4341-d50c-dc0d401d61bc"
      },
      "outputs": [
        {
          "output_type": "stream",
          "name": "stdout",
          "text": [
            "Drive already mounted at /content/mount; to attempt to forcibly remount, call drive.mount(\"/content/mount\", force_remount=True).\n"
          ]
        }
      ],
      "source": [
        "from google.colab import drive\n",
        "drive.mount(\"/content/mount\")"
      ]
    },
    {
      "cell_type": "markdown",
      "source": [
        "Here I'm installing the pyspark package."
      ],
      "metadata": {
        "id": "PibODpGdooWl"
      }
    },
    {
      "cell_type": "code",
      "source": [
        "!pip install pyspark"
      ],
      "metadata": {
        "colab": {
          "base_uri": "https://localhost:8080/"
        },
        "id": "gPMV1pWdj1Pr",
        "outputId": "f1460ea5-3b73-4aee-860d-6df3466f1a3e"
      },
      "execution_count": null,
      "outputs": [
        {
          "output_type": "stream",
          "name": "stdout",
          "text": [
            "Requirement already satisfied: pyspark in /usr/local/lib/python3.10/dist-packages (3.5.0)\n",
            "Requirement already satisfied: py4j==0.10.9.7 in /usr/local/lib/python3.10/dist-packages (from pyspark) (0.10.9.7)\n"
          ]
        }
      ]
    },
    {
      "cell_type": "markdown",
      "source": [
        "Here in this step we are installing all the required packages."
      ],
      "metadata": {
        "id": "M5P_ydWOotJV"
      }
    },
    {
      "cell_type": "code",
      "source": [
        "import pyspark\n",
        "from pyspark.sql.functions import *\n",
        "from pyspark.sql.window import *\n",
        "from pyspark.sql.types import *"
      ],
      "metadata": {
        "id": "8yOeMyi2j4mw"
      },
      "execution_count": null,
      "outputs": []
    },
    {
      "cell_type": "markdown",
      "source": [
        "Here I'm importing a sparksession and creating session named as 'project'."
      ],
      "metadata": {
        "id": "oMaUbQC-oz_n"
      }
    },
    {
      "cell_type": "code",
      "source": [
        "from pyspark.sql import SparkSession\n",
        "spark=SparkSession.builder.appName('project').getOrCreate()"
      ],
      "metadata": {
        "id": "QDVsOWbGj7P0"
      },
      "execution_count": null,
      "outputs": []
    },
    {
      "cell_type": "markdown",
      "source": [
        "Importing data from the drive for which we have already created a mount to connect google colab with the drive."
      ],
      "metadata": {
        "id": "0v54KT_Ao7YS"
      }
    },
    {
      "cell_type": "code",
      "source": [
        "customer=spark.read.csv(\"/content/mount/MyDrive/Store data normalize/Customer Data.csv\",header=True)\n",
        "orders=spark.read.csv(\"/content/mount/MyDrive/Store data normalize/Order data.csv\",header=True)\n",
        "products=spark.read.csv(\"/content/mount/MyDrive/Store data normalize/Product Data.csv\",header=True)\n",
        "region=spark.read.csv(\"/content/mount/MyDrive/Store data normalize/Regional data.csv\",header=True)\n",
        "transactions=spark.read.csv(\"/content/mount/MyDrive/Store data normalize/Transaction data.csv\",header=True)\n"
      ],
      "metadata": {
        "id": "XyuFZg-ImpRU"
      },
      "execution_count": null,
      "outputs": []
    },
    {
      "cell_type": "markdown",
      "source": [
        " Let's check the details regarding the dataset so, that we can make any changes if needed."
      ],
      "metadata": {
        "id": "5o1kFF_eq5id"
      }
    },
    {
      "cell_type": "code",
      "source": [
        "customer.printSchema()\n"
      ],
      "metadata": {
        "colab": {
          "base_uri": "https://localhost:8080/"
        },
        "id": "GSWBkMNkDszh",
        "outputId": "ac4c5020-5c8e-46d5-f73c-48efa46b36fc"
      },
      "execution_count": null,
      "outputs": [
        {
          "output_type": "stream",
          "name": "stdout",
          "text": [
            "root\n",
            " |-- Customer ID: string (nullable = true)\n",
            " |-- Customer Name: string (nullable = true)\n",
            " |-- Segment: string (nullable = true)\n",
            "\n"
          ]
        }
      ]
    },
    {
      "cell_type": "code",
      "source": [
        "orders.printSchema()"
      ],
      "metadata": {
        "colab": {
          "base_uri": "https://localhost:8080/"
        },
        "id": "wj_WkVUUDsn4",
        "outputId": "a8b5bc13-d0f7-4cdd-ac05-6fca00b5fe13"
      },
      "execution_count": null,
      "outputs": [
        {
          "output_type": "stream",
          "name": "stdout",
          "text": [
            "root\n",
            " |-- Order ID: string (nullable = true)\n",
            " |-- Order Date: string (nullable = true)\n",
            " |-- Ship Date: string (nullable = true)\n",
            " |-- Ship Mode: string (nullable = true)\n",
            " |-- Customer ID: string (nullable = true)\n",
            "\n"
          ]
        }
      ]
    },
    {
      "cell_type": "markdown",
      "source": [
        "In this step we are converting the order date and ship date from strings to date format so that we can do different analysis on the basis of that."
      ],
      "metadata": {
        "id": "r8KStlpfrJ5-"
      }
    },
    {
      "cell_type": "code",
      "source": [
        "orders=orders.withColumn('Order Date',to_date('Order Date','dd-mm-yyyy')).withColumn('Ship Date',to_date('Ship Date','dd-mm-yyyy'))"
      ],
      "metadata": {
        "id": "5abeSkLQFLyM"
      },
      "execution_count": null,
      "outputs": []
    },
    {
      "cell_type": "code",
      "source": [
        "products.printSchema()"
      ],
      "metadata": {
        "colab": {
          "base_uri": "https://localhost:8080/"
        },
        "id": "DSL-Q_FVDscT",
        "outputId": "04dab696-e33d-48e1-d203-28560f709813"
      },
      "execution_count": null,
      "outputs": [
        {
          "output_type": "stream",
          "name": "stdout",
          "text": [
            "root\n",
            " |-- Product ID: string (nullable = true)\n",
            " |-- Category: string (nullable = true)\n",
            " |-- Sub-Category: string (nullable = true)\n",
            " |-- Product Name: string (nullable = true)\n",
            "\n"
          ]
        }
      ]
    },
    {
      "cell_type": "code",
      "source": [
        "region.printSchema()"
      ],
      "metadata": {
        "colab": {
          "base_uri": "https://localhost:8080/"
        },
        "id": "MFtOQxMwDrwm",
        "outputId": "d63a0655-4142-4bcf-fe5e-af6a43354b6d"
      },
      "execution_count": null,
      "outputs": [
        {
          "output_type": "stream",
          "name": "stdout",
          "text": [
            "root\n",
            " |-- Country: string (nullable = true)\n",
            " |-- City: string (nullable = true)\n",
            " |-- State: string (nullable = true)\n",
            " |-- Postal Code: string (nullable = true)\n",
            " |-- Region: string (nullable = true)\n",
            "\n"
          ]
        }
      ]
    },
    {
      "cell_type": "code",
      "source": [
        "transactions.printSchema()"
      ],
      "metadata": {
        "colab": {
          "base_uri": "https://localhost:8080/"
        },
        "id": "ZKW-ima9D5Al",
        "outputId": "6634e090-7834-4769-fc46-cd221218fee3"
      },
      "execution_count": null,
      "outputs": [
        {
          "output_type": "stream",
          "name": "stdout",
          "text": [
            "root\n",
            " |-- Order ID: string (nullable = true)\n",
            " |-- Customer ID: string (nullable = true)\n",
            " |-- Product ID: string (nullable = true)\n",
            " |-- Sales: string (nullable = true)\n",
            " |-- Quantity: string (nullable = true)\n",
            " |-- Discount: string (nullable = true)\n",
            " |-- Profit: string (nullable = true)\n",
            "\n"
          ]
        }
      ]
    },
    {
      "cell_type": "markdown",
      "source": [
        " In this step we are dividing the customers on the basis of the segment from which they belongs so,it will give us a clearer\n",
        "where the business performing good and where we have to improve."
      ],
      "metadata": {
        "id": "vQ3GdNohrP_g"
      }
    },
    {
      "cell_type": "code",
      "source": [
        "customers_grouped=customer.groupBy('Segment').count().withColumnRenamed('count','Total')\n",
        "customers_grouped.show()"
      ],
      "metadata": {
        "colab": {
          "base_uri": "https://localhost:8080/"
        },
        "id": "pf3T3pxcmpAY",
        "outputId": "ad8b72ec-375e-4c63-800a-9c64f4ae8cc2"
      },
      "execution_count": null,
      "outputs": [
        {
          "output_type": "stream",
          "name": "stdout",
          "text": [
            "+-----------+-----+\n",
            "|    Segment|Total|\n",
            "+-----------+-----+\n",
            "|   Consumer|  409|\n",
            "|Home Office|  148|\n",
            "|  Corporate|  236|\n",
            "+-----------+-----+\n",
            "\n"
          ]
        }
      ]
    },
    {
      "cell_type": "markdown",
      "source": [
        "In this step we are trying to fecth the details regarding what is the percentage formed by each category of customers in the total customers count."
      ],
      "metadata": {
        "id": "_CCbOfOWrbOE"
      }
    },
    {
      "cell_type": "code",
      "source": [
        "customers_grouped.withColumn('Percent',round(customers_grouped['Total']/customer.count()*100,2)).show()"
      ],
      "metadata": {
        "colab": {
          "base_uri": "https://localhost:8080/"
        },
        "id": "-hAFngysSMoO",
        "outputId": "32f01e64-d62e-4656-e7d2-5ea1a37f3950"
      },
      "execution_count": null,
      "outputs": [
        {
          "output_type": "stream",
          "name": "stdout",
          "text": [
            "+-----------+-----+-------+\n",
            "|    Segment|Total|Percent|\n",
            "+-----------+-----+-------+\n",
            "|   Consumer|  409|  51.58|\n",
            "|Home Office|  148|  18.66|\n",
            "|  Corporate|  236|  29.76|\n",
            "+-----------+-----+-------+\n",
            "\n"
          ]
        }
      ]
    },
    {
      "cell_type": "markdown",
      "source": [
        " Here we are trying to fecth details regarding the most preffered shipping mode by the customers."
      ],
      "metadata": {
        "id": "-2JuWzF0r2Hw"
      }
    },
    {
      "cell_type": "code",
      "source": [
        "Shipmode_analysis=orders.groupBy('Ship Mode').count().withColumnRenamed('count','Total')\n",
        "Shipmode_analysis.show()"
      ],
      "metadata": {
        "colab": {
          "base_uri": "https://localhost:8080/"
        },
        "id": "OVwpEWpWEJQR",
        "outputId": "3a2cf40b-0946-47bb-d054-82151493a031"
      },
      "execution_count": null,
      "outputs": [
        {
          "output_type": "stream",
          "name": "stdout",
          "text": [
            "+--------------+-----+\n",
            "|     Ship Mode|Total|\n",
            "+--------------+-----+\n",
            "|   First Class|  787|\n",
            "|      Same Day|  264|\n",
            "|  Second Class|  964|\n",
            "|Standard Class| 2994|\n",
            "+--------------+-----+\n",
            "\n"
          ]
        }
      ]
    },
    {
      "cell_type": "markdown",
      "source": [
        "What percent of total shipping mode constituted by each of the shipping mode."
      ],
      "metadata": {
        "id": "_HOVbtLMr7J-"
      }
    },
    {
      "cell_type": "code",
      "source": [
        "Shipmode_analysis.withColumn('Percent',round(Shipmode_analysis['Total']/orders.count()*100,2)).show()"
      ],
      "metadata": {
        "colab": {
          "base_uri": "https://localhost:8080/"
        },
        "id": "UNktDDVkE3eU",
        "outputId": "ad6a6004-7a94-4071-b163-58a876445de2"
      },
      "execution_count": null,
      "outputs": [
        {
          "output_type": "stream",
          "name": "stdout",
          "text": [
            "+--------------+-----+-------+\n",
            "|     Ship Mode|Total|Percent|\n",
            "+--------------+-----+-------+\n",
            "|   First Class|  787|  15.71|\n",
            "|      Same Day|  264|   5.27|\n",
            "|  Second Class|  964|  19.25|\n",
            "|Standard Class| 2994|  59.77|\n",
            "+--------------+-----+-------+\n",
            "\n"
          ]
        }
      ]
    },
    {
      "cell_type": "markdown",
      "source": [
        " In this step I'm analysing that how many orders placed in each year and if there is any increase or not in the orders and sorting the data in ascending order"
      ],
      "metadata": {
        "id": "Pf2JXwf4sCv6"
      }
    },
    {
      "cell_type": "code",
      "source": [
        "Yearly_orders=orders.groupBy(year('Order Date').alias('Year')).count().withColumnRenamed('count','Total_orders')\n",
        "Yearly_orders=Yearly_orders.sort(Yearly_orders['Year'].asc())\n",
        "Yearly_orders.show()"
      ],
      "metadata": {
        "id": "6LR77rphGk9C",
        "colab": {
          "base_uri": "https://localhost:8080/"
        },
        "outputId": "5f16c4f2-7d15-4a84-cf7b-5f8d181aa920"
      },
      "execution_count": null,
      "outputs": [
        {
          "output_type": "stream",
          "name": "stdout",
          "text": [
            "+----+------------+\n",
            "|Year|Total_orders|\n",
            "+----+------------+\n",
            "|2014|         969|\n",
            "|2015|        1038|\n",
            "|2016|        1315|\n",
            "|2017|        1687|\n",
            "+----+------------+\n",
            "\n"
          ]
        }
      ]
    },
    {
      "cell_type": "markdown",
      "source": [
        "In this step we are trying to calculate the percentage change in total orders acount in each year."
      ],
      "metadata": {
        "id": "wuMmCztqsHt3"
      }
    },
    {
      "cell_type": "code",
      "source": [
        "windowSpec=Window.partitionBy().orderBy(Yearly_orders['Year'])\n",
        "Yearly_orders=Yearly_orders.withColumn(\"next_total\",lead('Total_orders').over(windowSpec))\n",
        "Yearly_orders=Yearly_orders.select('year','total_orders','next_total',(round((Yearly_orders['next_total']-Yearly_orders['Total_orders'])/Yearly_orders['Total_orders']*100,2)).\n",
        "                     alias('Percent Change'))\n",
        "Yearly_orders.show()\n"
      ],
      "metadata": {
        "id": "IQJV0X2uOnbg",
        "colab": {
          "base_uri": "https://localhost:8080/"
        },
        "outputId": "8bf21ea9-7cc6-424f-a9f6-01f62f233750"
      },
      "execution_count": null,
      "outputs": [
        {
          "output_type": "stream",
          "name": "stdout",
          "text": [
            "+----+------------+----------+--------------+\n",
            "|year|total_orders|next_total|Percent Change|\n",
            "+----+------------+----------+--------------+\n",
            "|2014|         969|      1038|          7.12|\n",
            "|2015|        1038|      1315|         26.69|\n",
            "|2016|        1315|      1687|         28.29|\n",
            "|2017|        1687|      NULL|          NULL|\n",
            "+----+------------+----------+--------------+\n",
            "\n"
          ]
        }
      ]
    },
    {
      "cell_type": "markdown",
      "source": [
        "In this step we are dividing our total orders on the basis product categories to get the indepth information about the orders."
      ],
      "metadata": {
        "id": "EHYKaku0sNTt"
      }
    },
    {
      "cell_type": "code",
      "source": [
        "Product_category=products.groupBy('Category').count().withColumnRenamed('count','Total_products')\n",
        "Product_category.withColumn('Total_percent',round(Product_category['Total_products']/products.count()*100,2)).show()"
      ],
      "metadata": {
        "colab": {
          "base_uri": "https://localhost:8080/"
        },
        "id": "e6GeMHqVSdWy",
        "outputId": "8afdf241-f90e-4287-cb07-97dbfce352ea"
      },
      "execution_count": null,
      "outputs": [
        {
          "output_type": "stream",
          "name": "stdout",
          "text": [
            "+---------------+--------------+-------------+\n",
            "|       Category|Total_products|Total_percent|\n",
            "+---------------+--------------+-------------+\n",
            "|Office Supplies|          6026|         60.3|\n",
            "|      Furniture|          2121|        21.22|\n",
            "|     Technology|          1847|        18.48|\n",
            "+---------------+--------------+-------------+\n",
            "\n"
          ]
        }
      ]
    },
    {
      "cell_type": "markdown",
      "source": [
        "In this step we are dividing our total orders on the basis product subcategories to get the indepth information about the orders."
      ],
      "metadata": {
        "id": "vldao3mhsTYR"
      }
    },
    {
      "cell_type": "code",
      "source": [
        "subcategory_analysis=products.groupBy('Sub-Category').count().withColumnRenamed('count','Total_product')\n",
        "subcategory_analysis=subcategory_analysis.withColumn('Total_percent',round(subcategory_analysis['Total_product']/products.count()*100,2))\n",
        "subcategory_analysis.sort(subcategory_analysis['Total_percent'].desc()).show()"
      ],
      "metadata": {
        "colab": {
          "base_uri": "https://localhost:8080/"
        },
        "id": "2MUiQ8XegQ1l",
        "outputId": "4b6e05e6-8263-4c92-fd57-1183dd63ed63"
      },
      "execution_count": null,
      "outputs": [
        {
          "output_type": "stream",
          "name": "stdout",
          "text": [
            "+------------+-------------+-------------+\n",
            "|Sub-Category|Total_product|Total_percent|\n",
            "+------------+-------------+-------------+\n",
            "|     Binders|         1523|        15.24|\n",
            "|       Paper|         1370|        13.71|\n",
            "| Furnishings|          957|         9.58|\n",
            "|      Phones|          889|          8.9|\n",
            "|     Storage|          846|         8.47|\n",
            "|         Art|          796|         7.96|\n",
            "| Accessories|          775|         7.75|\n",
            "|      Chairs|          617|         6.17|\n",
            "|  Appliances|          466|         4.66|\n",
            "|      Labels|          364|         3.64|\n",
            "|      Tables|          319|         3.19|\n",
            "|   Envelopes|          254|         2.54|\n",
            "|   Bookcases|          228|         2.28|\n",
            "|   Fasteners|          217|         2.17|\n",
            "|    Supplies|          190|          1.9|\n",
            "|    Machines|          115|         1.15|\n",
            "|     Copiers|           68|         0.68|\n",
            "+------------+-------------+-------------+\n",
            "\n"
          ]
        }
      ]
    },
    {
      "cell_type": "markdown",
      "source": [
        "In this step we are trying fetch details regarding from which region we have the maximum numbers of customers and where we have to channelise more support."
      ],
      "metadata": {
        "id": "Vbc363VhsYhT"
      }
    },
    {
      "cell_type": "code",
      "source": [
        "region.groupBy('Region').count().show()"
      ],
      "metadata": {
        "colab": {
          "base_uri": "https://localhost:8080/"
        },
        "id": "tNOYUX2bgx-S",
        "outputId": "56d5a82b-5412-48b2-c920-d3c10a1db529"
      },
      "execution_count": null,
      "outputs": [
        {
          "output_type": "stream",
          "name": "stdout",
          "text": [
            "+-------+-----+\n",
            "| Region|count|\n",
            "+-------+-----+\n",
            "|  South| 1620|\n",
            "|Central| 2323|\n",
            "|   East| 2848|\n",
            "|   West| 3203|\n",
            "+-------+-----+\n",
            "\n"
          ]
        }
      ]
    },
    {
      "cell_type": "code",
      "source": [
        "transactions.show(3)"
      ],
      "metadata": {
        "colab": {
          "base_uri": "https://localhost:8080/"
        },
        "id": "P-IoN_FOioCU",
        "outputId": "d22a2ad7-bc09-46c8-a767-1e3c9d8c5ba1"
      },
      "execution_count": null,
      "outputs": [
        {
          "output_type": "stream",
          "name": "stdout",
          "text": [
            "+--------------+-----------+---------------+------+--------+--------+-------+\n",
            "|      Order ID|Customer ID|     Product ID| Sales|Quantity|Discount| Profit|\n",
            "+--------------+-----------+---------------+------+--------+--------+-------+\n",
            "|CA-2016-152156|   CG-12520|FUR-BO-10001798|261.96|       2|       0|41.9136|\n",
            "|CA-2016-152156|   CG-12520|FUR-CH-10000454|731.94|       3|       0|219.582|\n",
            "|CA-2016-138688|   DV-13045|OFF-LA-10000240| 14.62|       2|       0| 6.8714|\n",
            "+--------------+-----------+---------------+------+--------+--------+-------+\n",
            "only showing top 3 rows\n",
            "\n"
          ]
        }
      ]
    },
    {
      "cell_type": "code",
      "source": [
        "orders.show(3)"
      ],
      "metadata": {
        "colab": {
          "base_uri": "https://localhost:8080/"
        },
        "id": "1WVd51GLL-EN",
        "outputId": "4348dc31-079b-4f9d-c3f4-8b350adf726a"
      },
      "execution_count": null,
      "outputs": [
        {
          "output_type": "stream",
          "name": "stdout",
          "text": [
            "+--------------+----------+----------+--------------+-----------+\n",
            "|      Order ID|Order Date| Ship Date|     Ship Mode|Customer ID|\n",
            "+--------------+----------+----------+--------------+-----------+\n",
            "|CA-2016-152156|2016-01-08|2016-01-11|  Second Class|   CG-12520|\n",
            "|CA-2016-138688|2016-01-12|2016-01-16|  Second Class|   DV-13045|\n",
            "|US-2015-108966|2015-01-11|2015-01-18|Standard Class|   SO-20335|\n",
            "+--------------+----------+----------+--------------+-----------+\n",
            "only showing top 3 rows\n",
            "\n"
          ]
        }
      ]
    },
    {
      "cell_type": "markdown",
      "source": [
        "In this step we are performing a left join between orders and transactions dataframe to get the key information which supports are analysis for the sales and profits."
      ],
      "metadata": {
        "id": "dVeofwuetMay"
      }
    },
    {
      "cell_type": "code",
      "source": [
        "Sales_analysis=transactions.join(orders,transactions['Order ID']==orders['Order ID'],'left').select(transactions['Order ID'],transactions['Customer ID'],orders['Order Date'],\n",
        "                                                                                     transactions['Product ID'],orders['Ship Mode'],transactions['Sales'],\n",
        "                                                                                     transactions['Quantity'],transactions['Discount'])\n",
        "Sales_analysis.show(5)"
      ],
      "metadata": {
        "id": "abvm4LZDOlta",
        "colab": {
          "base_uri": "https://localhost:8080/"
        },
        "outputId": "876c542e-bfde-4c99-877a-8ddddea679fb"
      },
      "execution_count": null,
      "outputs": [
        {
          "output_type": "stream",
          "name": "stdout",
          "text": [
            "+--------------+-----------+----------+---------------+--------------+--------+--------+--------+\n",
            "|      Order ID|Customer ID|Order Date|     Product ID|     Ship Mode|   Sales|Quantity|Discount|\n",
            "+--------------+-----------+----------+---------------+--------------+--------+--------+--------+\n",
            "|CA-2016-152156|   CG-12520|2016-01-08|FUR-BO-10001798|  Second Class|  261.96|       2|       0|\n",
            "|CA-2016-152156|   CG-12520|2016-01-08|FUR-CH-10000454|  Second Class|  731.94|       3|       0|\n",
            "|CA-2016-138688|   DV-13045|2016-01-12|OFF-LA-10000240|  Second Class|   14.62|       2|       0|\n",
            "|US-2015-108966|   SO-20335|2015-01-11|FUR-TA-10000577|Standard Class|957.5775|       5|    0.45|\n",
            "|US-2015-108966|   SO-20335|2015-01-11|OFF-ST-10000760|Standard Class|  22.368|       2|     0.2|\n",
            "+--------------+-----------+----------+---------------+--------------+--------+--------+--------+\n",
            "only showing top 5 rows\n",
            "\n"
          ]
        }
      ]
    },
    {
      "cell_type": "markdown",
      "source": [
        " Here in this step I'm creating a new column named as total profit which is the product of sales price and quantity sold."
      ],
      "metadata": {
        "id": "Fu-ipF_utSl3"
      }
    },
    {
      "cell_type": "code",
      "source": [
        "Sales_analysis=Sales_analysis.withColumn('Total_profit',Sales_analysis['sales'] * Sales_analysis['quantity'])\n"
      ],
      "metadata": {
        "id": "OUxjta9bO4d6"
      },
      "execution_count": null,
      "outputs": []
    },
    {
      "cell_type": "markdown",
      "source": [
        "Let's try to fetch the product id of top 10 most profitable products."
      ],
      "metadata": {
        "id": "X8RdNXR8tYB-"
      }
    },
    {
      "cell_type": "code",
      "source": [
        "Revenue_analysis=Sales_analysis.groupBy('product id').sum('total_profit').withColumnRenamed('sum(total_profit)','Total Revenue')\n",
        "Top_profit=Revenue_analysis.join(products,Revenue_analysis['product id']==products['product id'],'left').select(Revenue_analysis['product id'],Revenue_analysis['Total Revenue'],\n",
        "                                                                                                     products['category'],products['Sub-Category'],products['Product Name'])\n",
        "Top_profit.sort(Top_profit['Total Revenue'].desc()).show(10,truncate=False)\n"
      ],
      "metadata": {
        "colab": {
          "base_uri": "https://localhost:8080/"
        },
        "id": "N98IdOLdRFd_",
        "outputId": "0f411425-0025-4a0d-d574-a167f849de29"
      },
      "execution_count": null,
      "outputs": [
        {
          "output_type": "stream",
          "name": "stdout",
          "text": [
            "+---------------+-------------+---------------+------------+------------------------------------------------+\n",
            "|product id     |Total Revenue|category       |Sub-Category|Product Name                                    |\n",
            "+---------------+-------------+---------------+------------+------------------------------------------------+\n",
            "|TEC-CO-10004722|253399.276   |Technology     |Copiers     |Canon imageCLASS 2200 Advanced Copier           |\n",
            "|TEC-CO-10004722|253399.276   |Technology     |Copiers     |Canon imageCLASS 2200 Advanced Copier           |\n",
            "|TEC-CO-10004722|253399.276   |Technology     |Copiers     |Canon imageCLASS 2200 Advanced Copier           |\n",
            "|TEC-CO-10004722|253399.276   |Technology     |Copiers     |Canon imageCLASS 2200 Advanced Copier           |\n",
            "|TEC-CO-10004722|253399.276   |Technology     |Copiers     |Canon imageCLASS 2200 Advanced Copier           |\n",
            "|OFF-BI-10000545|171524.892   |Office Supplies|Binders     |GBC Ibimaster 500 Manual ProClick Binding System|\n",
            "|OFF-BI-10000545|171524.892   |Office Supplies|Binders     |GBC Ibimaster 500 Manual ProClick Binding System|\n",
            "|OFF-BI-10000545|171524.892   |Office Supplies|Binders     |GBC Ibimaster 500 Manual ProClick Binding System|\n",
            "|OFF-BI-10000545|171524.892   |Office Supplies|Binders     |GBC Ibimaster 500 Manual ProClick Binding System|\n",
            "|OFF-BI-10000545|171524.892   |Office Supplies|Binders     |GBC Ibimaster 500 Manual ProClick Binding System|\n",
            "+---------------+-------------+---------------+------------+------------------------------------------------+\n",
            "only showing top 10 rows\n",
            "\n"
          ]
        }
      ]
    },
    {
      "cell_type": "markdown",
      "source": [
        "Let's try to fetch the names of the least profit generating products in all these years"
      ],
      "metadata": {
        "id": "V3O3p03itdu2"
      }
    },
    {
      "cell_type": "code",
      "source": [
        "Top_profit.sort(Top_profit['Total Revenue'].asc()).show(10,truncate=False)"
      ],
      "metadata": {
        "colab": {
          "base_uri": "https://localhost:8080/"
        },
        "id": "rBO__WYRXRPN",
        "outputId": "5887b564-e910-44e4-fc56-aaea0158b24c"
      },
      "execution_count": null,
      "outputs": [
        {
          "output_type": "stream",
          "name": "stdout",
          "text": [
            "+---------------+-------------+---------------+------------+--------------------------------------------------------------------------+\n",
            "|product id     |Total Revenue|category       |Sub-Category|Product Name                                                              |\n",
            "+---------------+-------------+---------------+------------+--------------------------------------------------------------------------+\n",
            "|OFF-AP-10002203|3.248        |Office Supplies|Appliances  |Eureka Disposable Bags for Sanitaire Vibra Groomer I Upright Vac          |\n",
            "|OFF-PA-10000048|6.48         |Office Supplies|Paper       |Xerox 20                                                                  |\n",
            "|OFF-LA-10003388|11.52        |Office Supplies|Labels      |Avery 5                                                                   |\n",
            "|OFF-EN-10001535|14.144       |Office Supplies|Envelopes   |Grip Seal Envelopes                                                       |\n",
            "|OFF-AR-10002704|14.98        |Office Supplies|Art         |Boston 1900 Electric Pencil Sharpener                                     |\n",
            "|OFF-AR-10003986|15.4         |Office Supplies|Art         |Avery Hi-Liter Pen Style Six-Color Fluorescent Set                        |\n",
            "|OFF-PA-10003919|15.936       |Office Supplies|Paper       |Xerox 1989                                                                |\n",
            "|OFF-AP-10002906|16.872       |Office Supplies|Appliances  |Hoover Replacement Belt for Commercial Guardsman Heavy-Duty Upright Vacuum|\n",
            "|OFF-AP-10002906|16.872       |Office Supplies|Appliances  |Hoover Replacement Belt for Commercial Guardsman Heavy-Duty Upright Vacuum|\n",
            "|OFF-AP-10002906|16.872       |Office Supplies|Appliances  |Hoover Replacement Belt for Commercial Guardsman Heavy-Duty Upright Vacuum|\n",
            "+---------------+-------------+---------------+------------+--------------------------------------------------------------------------+\n",
            "only showing top 10 rows\n",
            "\n"
          ]
        }
      ]
    },
    {
      "cell_type": "markdown",
      "source": [
        "Here in this step we are trying to calculate the percentage change in profits in all these years."
      ],
      "metadata": {
        "id": "dh8kNUJ9ti2e"
      }
    },
    {
      "cell_type": "code",
      "source": [
        "Profit_percent=Sales_analysis.groupBy(year('Order Date').alias('Year')).sum('Total_profit').withColumnRenamed('sum(Total_profit)','Total Revenue')\n",
        "Profit_percent=Profit_percent.select('Year',round('Total Revenue',2).alias('Total Revenue')).sort(Profit_percent['Year'].asc())\n",
        "windowspec1=Window.partitionBy().orderBy(Profit_percent['Year'])\n",
        "profit_percentage_analysis=Profit_percent.withColumn('Next_year_revenue',lead('Total Revenue').over(windowspec1))\n",
        "profit_percentage_analysis.select('Year','Total Revenue','Next_year_revenue',((profit_percentage_analysis['Next_year_revenue']-profit_percentage_analysis['Total Revenue'])/\n",
        "                                  profit_percentage_analysis['Total Revenue']*100)).show()"
      ],
      "metadata": {
        "id": "gbyuFJWrIg9s"
      },
      "execution_count": null,
      "outputs": []
    },
    {
      "cell_type": "code",
      "source": [
        "profit_percentage_analysis=profit_percentage_analysis.select('Year','Total Revenue','Next_year_revenue').withColumn('Percentage_change',\n",
        " (profit_percentage_analysis['Next_year_revenue']-profit_percentage_analysis['Total Revenue'])/\n",
        "                                  profit_percentage_analysis['Total Revenue']*100)\n",
        "profit_percentage_analysis.show()"
      ],
      "metadata": {
        "colab": {
          "base_uri": "https://localhost:8080/"
        },
        "id": "sL_KlWgKb5C0",
        "outputId": "ddf1b2ad-f28d-4114-aae8-0528ea924975"
      },
      "execution_count": null,
      "outputs": [
        {
          "output_type": "stream",
          "name": "stdout",
          "text": [
            "+----+-------------+-----------------+------------------+\n",
            "|Year|Total Revenue|Next_year_revenue| Percentage_change|\n",
            "+----+-------------+-----------------+------------------+\n",
            "|2014|   2468283.73|       2384901.38|-3.378150938911715|\n",
            "|2015|   2384901.38|       3050057.36| 27.89029288917599|\n",
            "|2016|   3050057.36|        3584819.6|17.532858464012634|\n",
            "|2017|    3584819.6|             NULL|              NULL|\n",
            "+----+-------------+-----------------+------------------+\n",
            "\n"
          ]
        }
      ]
    }
  ]
}